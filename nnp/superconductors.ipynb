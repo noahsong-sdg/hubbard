{
 "cells": [
  {
   "cell_type": "code",
   "execution_count": 1,
   "metadata": {},
   "outputs": [],
   "source": [
    "import numpy as np\n",
    "import torch"
   ]
  },
  {
   "cell_type": "code",
   "execution_count": 2,
   "metadata": {},
   "outputs": [
    {
     "data": {
      "text/plain": [
       "<torch._C.Generator at 0x1b1ccb59ff0>"
      ]
     },
     "execution_count": 2,
     "metadata": {},
     "output_type": "execute_result"
    }
   ],
   "source": [
    "# Import additional necessary libraries\n",
    "import pandas as pd\n",
    "import matplotlib.pyplot as plt\n",
    "from sklearn.model_selection import train_test_split\n",
    "from sklearn.preprocessing import StandardScaler\n",
    "#from transformers import AutoModel, AutoTokenizer\n",
    "from matminer.datasets import load_dataset\n",
    "\n",
    "# Set random seeds for reproducibility\n",
    "np.random.seed(42)\n",
    "torch.manual_seed(42)"
   ]
  },
  {
   "cell_type": "code",
   "execution_count": null,
   "metadata": {},
   "outputs": [],
   "source": [
    "# Load superconductor dataset from matminer\n",
    "# This dataset contains superconducting critical temperatures and material compositions\n",
    "try:\n",
    "    df = load_dataset(\"superconductivity\")\n",
    "    print(f\"Successfully loaded superconductor dataset with {len(df)} entries\")\n",
    "    df.head()\n",
    "except Exception as e:\n",
    "    print(f\"Error loading matminer dataset: {e}\")\n",
    "    print(\"Attempting to load alternative dataset...\")"
   ]
  },
  {
   "cell_type": "code",
   "execution_count": null,
   "metadata": {},
   "outputs": [],
   "source": [
    "# Alternative: Load dataset from SuperCon database\n",
    "url = 'https://supercon.nims.go.jp/supercon/export_csv/export_sc_tc.csv'\n",
    "try:\n",
    "    df = pd.read_csv(url)\n",
    "    print(f\"Successfully loaded SuperCon dataset with {len(df)} entries\")\n",
    "    df.head()\n",
    "except Exception as e:\n",
    "    print(f\"Error loading alternative dataset: {e}\")\n",
    "    print(\"Installing and using matbench_superconductivity dataset...\")"
   ]
  },
  {
   "cell_type": "code",
   "execution_count": null,
   "metadata": {},
   "outputs": [],
   "source": [
    "# If both fail, try using matbench dataset\n",
    "!pip install matbench\n",
    "from matbench.bench import MatbenchBenchmark\n",
    "mb = MatbenchBenchmark()\n",
    "df = mb.get_dataset(\"matbench_supercond\")\n",
    "print(f\"Successfully loaded matbench_supercond dataset with {len(df)} entries\")\n",
    "df.head()"
   ]
  },
  {
   "cell_type": "code",
   "execution_count": null,
   "metadata": {},
   "outputs": [],
   "source": [
    "# Explore the dataset\n",
    "print(\"Dataset information:\")\n",
    "print(df.info())\n",
    "print(\"\\nDataset statistics:\")\n",
    "print(df.describe())\n",
    "\n",
    "# Visualize T_c distribution\n",
    "plt.figure(figsize=(10, 6))\n",
    "plt.hist(df['Tc'], bins=50)\n",
    "plt.xlabel('Critical Temperature (K)')\n",
    "plt.ylabel('Frequency')\n",
    "plt.title('Distribution of Superconductor Critical Temperatures')\n",
    "plt.show()"
   ]
  }
 ],
 "metadata": {
  "kernelspec": {
   "display_name": "cuprate",
   "language": "python",
   "name": "python3"
  },
  "language_info": {
   "codemirror_mode": {
    "name": "ipython",
    "version": 3
   },
   "file_extension": ".py",
   "mimetype": "text/x-python",
   "name": "python",
   "nbconvert_exporter": "python",
   "pygments_lexer": "ipython3",
   "version": "3.13.2"
  }
 },
 "nbformat": 4,
 "nbformat_minor": 2
}
